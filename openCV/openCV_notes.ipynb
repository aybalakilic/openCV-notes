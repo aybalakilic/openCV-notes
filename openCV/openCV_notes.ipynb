{
 "cells": [
  {
   "cell_type": "markdown",
   "metadata": {},
   "source": [
    "### openCV (Open Source Computer Vision)"
   ]
  },
  {
   "cell_type": "markdown",
   "metadata": {},
   "source": [
    "#### Resim okuma, açma ve yazdırma"
   ]
  },
  {
   "cell_type": "code",
   "execution_count": 1,
   "metadata": {},
   "outputs": [],
   "source": [
    "import cv2\n",
    "import numpy as np\n",
    "\n",
    "resim = cv2.imread(\"photo.png\") #imread yani image read yaparak resmi okuyoruz.\n",
    "\n",
    "cv2.imshow(\"engineering photo\",resim) #cv2.imshow(\"title\",göstermek istenilen değişken)\n",
    "\n",
    "cv2.waitKey(0) #temel iskelet. herhangi bir tuşa basmamızı bekler.\n",
    "cv2.destroyAllWindows() #temel iskelet. açılan tüm pencereleri herhangi bir tuşa basınca kapatır.\n",
    "\n",
    "\n",
    "                                 "
   ]
  },
  {
   "cell_type": "code",
   "execution_count": 2,
   "metadata": {},
   "outputs": [],
   "source": [
    "import cv2\n",
    "import numpy as np\n",
    "\n",
    "resim = cv2.imread(\"photo.png\",0) # 0 parametresi ile kullanımda rgb kullanmaz, yani fotoğrafı gs(grayscale) olarak verir.\n",
    "cv2.imshow(\"engineering photo\",resim)\n",
    "cv2.imwrite(\"gs photo.png\",resim) #gs haliyle fotoğrafı kaydeder.\n",
    "cv2.waitKey(0) \n",
    "cv2.destroyAllWindows() \n",
    "                                 "
   ]
  },
  {
   "cell_type": "markdown",
   "metadata": {},
   "source": [
    "#### RGB mantığı"
   ]
  },
  {
   "cell_type": "markdown",
   "metadata": {},
   "source": [
    ">Ana üç renk olan red green ve blue'nun(yani 3 kanaldan oluşuyor) 0-255 aralığındaki kombinasyonları sonucunda renkler oluşur.\n",
    "\n",
    ">Her bir pixel(nokta) 8 bitten oluşur. Yani bir noktada maksimum (1,1,1,1,1,1,1,1) 255'e kadar bir sayıya ulaşabilirim.\n"
   ]
  },
  {
   "cell_type": "code",
   "execution_count": null,
   "metadata": {},
   "outputs": [],
   "source": [
    "import cv2\n",
    "import numpy as np\n",
    "\n",
    "new_photo= cv2.imread(\"bird.png\")\n",
    "cv2.imshow(\"The bird photo\",new_photo)\n",
    "\n",
    "print(new_photo) #resimde kaç pixel olduğunu matris olarak terminale yazdırır.\n",
    "\n",
    "cv2.waitKey(0)\n",
    "cv2.destroyAllWindows()\n"
   ]
  },
  {
   "cell_type": "markdown",
   "metadata": {},
   "source": [
    "#### Size(boyut), Dtype(veri tipi) ve Shape(şekil) çıktısı"
   ]
  },
  {
   "cell_type": "code",
   "execution_count": null,
   "metadata": {},
   "outputs": [],
   "source": [
    "import cv2\n",
    "import numpy as np\n",
    "\n",
    "p1=cv2.imread(\"bird.png\")\n",
    "cv2.imshow(\"bird photo\",p1)\n",
    "\n",
    "print(p1.size)\n",
    "print(p1.dtype)\n",
    "print(p1.shape) #(genişlik,yükselik,kaç kanaldan oluştuğu)\n",
    "\n",
    "cv2.waitKey(0)\n",
    "cv2.destroyAllWindows()"
   ]
  },
  {
   "cell_type": "code",
   "execution_count": null,
   "metadata": {},
   "outputs": [],
   "source": [
    "#eğer görsel grileştirilirse .shape çıktısında kanal sayısı verilmez çünkü rgbden yoksundur.\n",
    "import cv2\n",
    "import numpy as np\n",
    "\n",
    "p1=cv2.imread(\"bird.png\",0)\n",
    "cv2.imshow(\"bird photo\",p1)\n",
    "\n",
    "print(p1.size)\n",
    "print(p1.dtype)\n",
    "print(p1.shape) #(yükselik genişlik,kaç kanaldan oluştuğu)\n",
    "\n",
    "cv2.waitKey(0)\n",
    "cv2.destroyAllWindows()"
   ]
  },
  {
   "cell_type": "markdown",
   "metadata": {},
   "source": [
    "#### RGB Pixel 1"
   ]
  },
  {
   "cell_type": "code",
   "execution_count": null,
   "metadata": {},
   "outputs": [],
   "source": [
    "import cv2\n",
    "import numpy as np\n",
    "\n",
    "wolfp=cv2.imread(\"wolf.jpg\")\n",
    "\n",
    "cv2.imshow(\"the wolf photo\",wolfp)\n",
    "\n",
    "print(wolfp.shape)\n",
    "print(wolfp[(150,80)]) #sol köşe baz alınarak aşağı doğru 150, sağa doğru 80deki pixelin renk matrisi(bgr sırasında)\n",
    "\n",
    "cv2.waitKey(0) \n",
    "cv2.destroyAllWindows()"
   ]
  },
  {
   "cell_type": "markdown",
   "metadata": {},
   "source": [
    "#### RGB Pixel 2 (Çizgi çekme)"
   ]
  },
  {
   "cell_type": "code",
   "execution_count": 6,
   "metadata": {},
   "outputs": [],
   "source": [
    "import cv2\n",
    "import numpy as np\n",
    "\n",
    "tr_photo =cv2.imread(\"turkiye.jpg\")\n",
    "tr_photo[50,30]=[255,255,255] #(50,30) noktasındaki rgb değerini değiştirdim. (255,255,255) olarak yani beyaz\n",
    "cv2.imshow(\"turkiyeden manzara\",tr_photo)\n",
    "\n",
    "cv2.waitKey(0)\n",
    "cv2.destroyAllWindows()\n"
   ]
  },
  {
   "cell_type": "code",
   "execution_count": 6,
   "metadata": {},
   "outputs": [],
   "source": [
    "import cv2\n",
    "import numpy as np\n",
    "\n",
    "tr_photo =cv2.imread(\"turkiye.jpg\")\n",
    "\n",
    "w =tr_photo.shape[1]\n",
    "\n",
    "for i in range(w):\n",
    "    tr_photo[10,i]=[255,255,255]\n",
    "\n",
    "for i in range(150):\n",
    "    tr_photo[30,i]=[0,0,0]\n",
    "\n",
    "cv2.imshow(\"turkiyeden manzara\",tr_photo)\n",
    "\n",
    "cv2.waitKey(0)\n",
    "cv2.destroyAllWindows()\n"
   ]
  },
  {
   "cell_type": "markdown",
   "metadata": {},
   "source": [
    "#### Fotoğrafın belirli bir kısmına efekt uygulama"
   ]
  },
  {
   "cell_type": "code",
   "execution_count": 4,
   "metadata": {},
   "outputs": [],
   "source": [
    "import cv2\n",
    "import numpy as np\n",
    "\n",
    "aktorP= cv2.imread(\"aktor.jpg\")\n",
    "\n",
    "\n",
    "aktorP[:,:,0] =255  #blue efekt verdi\n",
    "#aktorP[:,:,1] =255  #green efekt verdi\n",
    "#aktorP[:,:,2] = 255   #red efekt verdi\n",
    "\n",
    "#böyle mix efekt de verilebilir.\n",
    "#aktorP[:,:,0]=50\n",
    "#aktorP[:,:,2]=100\n",
    "\n",
    "cv2.imshow(\"Kemal Sunal\",aktorP)\n",
    "cv2.waitKey(0)\n",
    "cv2.destroyAllWindows()"
   ]
  },
  {
   "cell_type": "code",
   "execution_count": 16,
   "metadata": {},
   "outputs": [],
   "source": [
    "import cv2\n",
    "import numpy as np\n",
    "\n",
    "aktorP= cv2.imread(\"aktor.jpg\")\n",
    "\n",
    "\n",
    "aktorP[170:250,320:500,0]=120  #[y1:y2, x1:x2, b=0/g=1/r=2]\n",
    "aktorP[170:250,320:500,2]=98\n",
    "\n",
    "cv2.imshow(\"Kemal Sunal\",aktorP)\n",
    "cv2.waitKey(0)\n",
    "cv2.destroyAllWindows()"
   ]
  },
  {
   "cell_type": "markdown",
   "metadata": {},
   "source": [
    "#### Fotoğraftan bir kesit alma ve resme efekt uygulama"
   ]
  },
  {
   "cell_type": "code",
   "execution_count": null,
   "metadata": {},
   "outputs": [],
   "source": [
    "import cv2\n",
    "import numpy as np\n",
    "\n",
    "peaceP=cv2.imread(\"peace.jpg\")\n",
    "print(peaceP.shape)\n",
    "cutted_peaceP=peaceP[120:320,240:340]   #[y1:y2,x1:x2]\n",
    "\n",
    "cv2.imshow(\"the peaceful photo\",peaceP)\n",
    "cv2.imshow(\"the peaceful photo cutted\",cutted_peaceP)\n",
    "\n",
    "cv2.waitKey(0)\n",
    "cv2.destroyAllWindows()"
   ]
  },
  {
   "cell_type": "code",
   "execution_count": null,
   "metadata": {},
   "outputs": [],
   "source": [
    "import cv2\n",
    "import numpy as np\n",
    "\n",
    "peaceP=cv2.imread(\"peace.jpg\")\n",
    "print(peaceP.shape)\n",
    "\n",
    "cutted_peaceP=peaceP[120:320,240:340]   \n",
    "peaceP[0:200,0:100]=cutted_peaceP  #kesiti ana resmin üzerine yapıştırma, tutarlı olunmalı boyutlar aynı olmalı\n",
    "\n",
    "cv2.imshow(\"the peaceful photo\",peaceP)\n",
    "\n",
    "\n",
    "cv2.waitKey(0)\n",
    "cv2.destroyAllWindows()"
   ]
  },
  {
   "cell_type": "code",
   "execution_count": null,
   "metadata": {},
   "outputs": [],
   "source": [
    "import cv2\n",
    "import numpy as np\n",
    "\n",
    "peaceP=cv2.imread(\"peace.jpg\")\n",
    "print(peaceP.shape)\n",
    "\n",
    "cutted_peaceP=peaceP[120:320,240:340]   \n",
    "peaceP[0:200,0:100]=cutted_peaceP  \n",
    "\n",
    "peaceP[:,:,0]=55 #blue effect\n",
    "cv2.imshow(\"the peaceful photo\",peaceP)\n",
    "\n",
    "\n",
    "cv2.waitKey(0)\n",
    "cv2.destroyAllWindows()"
   ]
  },
  {
   "cell_type": "code",
   "execution_count": null,
   "metadata": {},
   "outputs": [],
   "source": [
    "import cv2\n",
    "import numpy as np\n",
    "\n",
    "peaceP=cv2.imread(\"peace.jpg\")\n",
    "print(peaceP.shape)\n",
    "\n",
    "cutted_peaceP=peaceP[120:320,240:340]   \n",
    "peaceP[0:200,0:100]=cutted_peaceP  \n",
    "\n",
    "peaceP[200:300,100:200]=[0,0,255] #fotografın belirtilen alanında istenilen renkle boyanır.\n",
    "cv2.imshow(\"the peaceful photo\",peaceP)\n",
    "\n",
    "\n",
    "cv2.waitKey(0)\n",
    "cv2.destroyAllWindows()"
   ]
  },
  {
   "cell_type": "markdown",
   "metadata": {},
   "source": [
    "#### Fotoğrafı aynalama, uzatma, tekrar etme, çerçeve oluşturma"
   ]
  },
  {
   "cell_type": "code",
   "execution_count": 46,
   "metadata": {},
   "outputs": [],
   "source": [
    "import cv2\n",
    "import numpy as np\n",
    "\n",
    "rakunP=cv2.imread(\"rakun.jpg\")\n",
    "ayna_rakunP=cv2.copyMakeBorder(rakunP,150,150,70,70,cv2.BORDER_REFLECT) #burada bir sınır ve kopyalama yapacağımı gösteriyorum. \n",
    "#cv2.copyMakeBorder(aynalanan resim,top,bottom,left,right,cv2.BORDER_REFLECT)  -reflect==aynalama demek\n",
    "\n",
    "cv2.imshow(\"aynalanmis rakun gorseli\",ayna_rakunP)\n",
    "\n",
    "cv2.waitKey(0)\n",
    "cv2.destroyAllWindows()"
   ]
  },
  {
   "cell_type": "code",
   "execution_count": 45,
   "metadata": {},
   "outputs": [],
   "source": [
    "import cv2\n",
    "import numpy as np\n",
    "rakunP=cv2.imread(\"rakun.jpg\")\n",
    "uzat_rakunP=cv2.copyMakeBorder(rakunP,200,200,50,50,cv2.BORDER_REPLICATE)  #uzatma işlemi\n",
    "\n",
    "cv2.imshow(\"uzatilmis rakun gorseli\",uzat_rakunP)\n",
    "\n",
    "cv2.waitKey(0)\n",
    "cv2.destroyAllWindows()"
   ]
  },
  {
   "cell_type": "code",
   "execution_count": 80,
   "metadata": {},
   "outputs": [],
   "source": [
    "import cv2\n",
    "import numpy as np\n",
    "\n",
    "rakunP=cv2.imread(\"rakun.jpg\")\n",
    "tekrar_rakunP=cv2.copyMakeBorder(rakunP,100,100,100,100,cv2.BORDER_WRAP)  #tekrarlama işlemi\n",
    "\n",
    "cv2.imshow(\"tekarlanan rakun gorseli\",tekrar_rakunP)\n",
    "\n",
    "cv2.waitKey(0)\n",
    "cv2.destroyAllWindows()\n"
   ]
  },
  {
   "cell_type": "code",
   "execution_count": 43,
   "metadata": {},
   "outputs": [],
   "source": [
    "import cv2\n",
    "import numpy as np\n",
    "\n",
    "rakunP=cv2.imread(\"rakun.jpg\")\n",
    "cerceve_rakunP=cv2.copyMakeBorder(rakunP,50,50,50,50,cv2.BORDER_CONSTANT,value=(20,50,75))  #çerçeveleme işlemi kenarlarının rengini ayarladık value =(b,g,r). \n",
    "#Renk ataması yapılmazsa otomatik olarak siyah yapar kenarlığı.\n",
    "\n",
    "cv2.imshow(\"cercevelenen rakun gorseli\",cerceve_rakunP)\n",
    "\n",
    "cv2.waitKey(0)\n",
    "cv2.destroyAllWindows()\n"
   ]
  },
  {
   "cell_type": "markdown",
   "metadata": {},
   "source": [
    "#### Fotoğrafta belli bölgeyi dikdörtgen içine alma"
   ]
  },
  {
   "cell_type": "code",
   "execution_count": null,
   "metadata": {},
   "outputs": [],
   "source": [
    "import  cv2\n",
    "import numpy as np\n",
    "\n",
    "yuzlerP=cv2.imread(\"yuzler.jpg\")\n",
    "\n",
    "print(yuzlerP[50,50]) #50sağda 50aşağıda bgr nedir?\n",
    "print(yuzlerP.shape)\n",
    "cv2.rectangle(yuzlerP,(250,200),(350,90),[0,255,0],4) #cv2.rectangle(hangi resim üzerinde işlem yapılacaksa, sol alt köşenin (x,y), sağ üst köşe(x,y),[b,g,r],dikdörtgenin kalınlığı (0-9) arasında)\n",
    "\n",
    "cv2.imshow(\"hababam oyunucları\",yuzlerP)\n",
    "\n",
    "\n",
    "cv2.waitKey(0)\n",
    "cv2.destroyAllWindows()"
   ]
  },
  {
   "cell_type": "markdown",
   "metadata": {},
   "source": [
    "#### Ağırlıklı toplama \n",
    "resim1=[200,100,50] #bgr kanalı değerleri\n",
    "\n",
    "resim2=[100,50,210] #bgr kanalı değerleri\n",
    "\n",
    " bu iki resmin ağırlıklı toplamı[200+100,100+50,50+210]=[300,150,260] fakat burada bir taşma söz konusu [300-255,150,260-255]=[45,150,5] şeklinde bir sonuca varılır."
   ]
  },
  {
   "cell_type": "code",
   "execution_count": null,
   "metadata": {},
   "outputs": [],
   "source": [
    "import cv2\n",
    "import numpy as np\n",
    "\n",
    "kediP=cv2.imread(\"kedi.png\")\n",
    "kopekP=cv2.imread(\"kopek.jpg\")\n",
    "\n",
    "print(kediP[100,200]) #100aşağı 200sağa noktasındaki bgr değeri\n",
    "print(kopekP[300,100]) #300aşağı 100sağa noktasındaki bgr değeri\n",
    "\n",
    "cv2.imshow(\"kedi fotografi\",kediP)\n",
    "cv2.imshow(\"kopek fotografi\",kopekP)\n",
    "\n",
    "print(kediP[100,200]+kopekP[300,100]) #zaten otomatikmen taşmalara göre bir sonuç veriyor\n",
    "cv2.waitKey(0)\n",
    "cv2.destroyAllWindows()"
   ]
  },
  {
   "cell_type": "markdown",
   "metadata": {},
   "source": [
    "#### Ağırlıklı toplama (Resimlerin üst üste eklenmesi)"
   ]
  },
  {
   "cell_type": "code",
   "execution_count": 73,
   "metadata": {},
   "outputs": [],
   "source": [
    "#fotoğrafların boyutları kesinlikle aynı olmalıdır!\n",
    "import cv2\n",
    "import numpy as np\n",
    "\n",
    "kedi=cv2.imread(\"kedi.png\")\n",
    "kopek=cv2.imread(\"kopekk.jpg\")\n",
    "\n",
    "cv2.imshow(\"kedi gorseli\",kedi)\n",
    "cv2.imshow(\"kopek gorseli\",kopek)\n",
    "\n",
    "ust_uste_ekleme= cv2.add(kedi,kopek)\n",
    "cv2.imshow(\"usat uste eklenmis hali\",ust_uste_ekleme)\n",
    "\n",
    "cv2.waitKey(0)\n",
    "cv2. destroyAllWindows()"
   ]
  },
  {
   "cell_type": "code",
   "execution_count": 79,
   "metadata": {},
   "outputs": [],
   "source": [
    "import cv2\n",
    "import numpy as np\n",
    "\n",
    "kedi=cv2.imread(\"kedi.png\")\n",
    "kopek=cv2.imread(\"kopekk.jpg\")\n",
    "\n",
    "agirlikli_bindirme =cv2.addWeighted(kedi,0.7,kopek,0.3,0) #cv2.addWeighted(ilk foto,ağırlık oranı,ikinci foto,ağırlık oranı,her zaman 0 verilir)   \n",
    "#ağırlıklık oranları toplamı 1'e eşit olmalı\n",
    "\n",
    "cv2.imshow(\"agirlikli olarak bindirme gorseli\",agirlikli_bindirme)\n",
    "\n",
    "cv2.waitKey(0)\n",
    "cv2. destroyAllWindows()"
   ]
  },
  {
   "cell_type": "markdown",
   "metadata": {},
   "source": [
    "#### Fotoğrafı grileştirme ve aritmetik işlemler"
   ]
  },
  {
   "cell_type": "code",
   "execution_count": null,
   "metadata": {},
   "outputs": [],
   "source": [
    "import cv2\n",
    "import numpy as np\n",
    "\n",
    "flowers = cv2.imread(\"flowers.jpg\")\n",
    "grayFlowers= cv2.cvtColor(flowers,cv2.COLOR_BGR2GRAY)\n",
    "\n",
    "print(flowers.shape)\n",
    "print(grayFlowers.shape) #kanal sayısı 1e düşer bu avantajdır.\n",
    "\n",
    "cv2.imshow(\"flowers photo original\",flowers)\n",
    "cv2.imshow(\"flowers photo gray\",grayFlowers)\n",
    "\n",
    "\n",
    "cv2.waitKey(0)\n",
    "cv2. destroyAllWindows()"
   ]
  },
  {
   "cell_type": "markdown",
   "metadata": {},
   "source": [
    "#### Görüntü piramitleri 1\n",
    "İki kat büyütülmüş cv2.pyrUp()\n",
    "\n",
    "İki kat küçültülmüş cv2.pyrDown()"
   ]
  },
  {
   "cell_type": "code",
   "execution_count": 84,
   "metadata": {},
   "outputs": [
    {
     "name": "stdout",
     "output_type": "stream",
     "text": [
      "orijinal boyutu: (749, 1023, 3)\n",
      "iki kat büyümüş boyutu: (1498, 2046, 3)\n"
     ]
    }
   ],
   "source": [
    "import cv2\n",
    "import numpy as np\n",
    "\n",
    "manyetizmaP=cv2.imread(\"manyetizma.jpg\")\n",
    "\n",
    "ikiKatBuyutulmus_manyetizmaP =cv2.pyrUp(manyetizmaP)\n",
    "\n",
    "print(f\"orijinal boyutu: {manyetizmaP.shape}\")\n",
    "\n",
    "print(f\"iki kat büyümüş boyutu: {ikiKatBuyutulmus_manyetizmaP.shape}\")\n",
    "\n",
    "cv2.imshow(\"manyetizma gosrseli\",manyetizmaP)\n",
    "cv2.imshow(\"iki kat buyumus manyetizma gosrseli\",ikiKatBuyutulmus_manyetizmaP)\n",
    "\n",
    "cv2.waitKey(0)\n",
    "cv2.destroyAllWindows()"
   ]
  },
  {
   "cell_type": "code",
   "execution_count": null,
   "metadata": {},
   "outputs": [],
   "source": [
    "import cv2\n",
    "import numpy as np\n",
    "\n",
    "manyetizmaP=cv2.imread(\"manyetizma.jpg\")\n",
    "\n",
    "ikiKatKucultulmus_manyetizmaP =cv2.pyrDown(manyetizmaP)\n",
    "\n",
    "print(f\"orijinal boyutu: {manyetizmaP.shape}\")\n",
    "\n",
    "print(f\"iki kat küçülmüş boyutu: {ikiKatKucultulmus_manyetizmaP.shape}\")\n",
    "\n",
    "cv2.imshow(\"manyetizma gosrseli\",manyetizmaP)\n",
    "cv2.imshow(\"iki kat kuculmus manyetizma gorseli\",ikiKatKucultulmus_manyetizmaP)\n",
    "\n",
    "cv2.waitKey(0)\n",
    "cv2.destroyAllWindows()"
   ]
  },
  {
   "cell_type": "markdown",
   "metadata": {},
   "source": [
    "#### Görüntü piramitleri 2\n",
    "np.zeros ile matris oluşturma"
   ]
  },
  {
   "cell_type": "code",
   "execution_count": null,
   "metadata": {},
   "outputs": [],
   "source": [
    "import cv2 \n",
    "import numpy as np\n",
    "\n",
    "photo = np.zeros((500,800,3),dtype=\"uint8\") #zeros(istenilen matrisin şekli,data tipi)\n",
    "\n",
    "print(photo)\n",
    "\n",
    "cv2.waitKey(0)\n",
    "cv2.destroyAllWindows"
   ]
  },
  {
   "cell_type": "markdown",
   "metadata": {},
   "source": [
    "#### Kameradan canlı görüntü alma"
   ]
  },
  {
   "cell_type": "code",
   "execution_count": 6,
   "metadata": {},
   "outputs": [],
   "source": [
    "import cv2\n",
    "import numpy as np\n",
    "\n",
    "camera=cv2.VideoCapture(0) #bilgisayarda tanımlı olan kamerayı açıcak, eğer usb bağlı ise 1 dersin ona bağlanır\n",
    "\n",
    "while True:\n",
    "    ret,goruntu=camera.read()                       #ret: çalışıp çalışmadığını kontrol eder\n",
    "    cv2.imshow(\"video kaydiniz...\",goruntu)\n",
    "    if cv2.waitKey(30) & 0xFF==ord('q'):               #30ms de bir görüntüleri çek ve çıkışım q ya eşitse\n",
    "        break  \n",
    "\n",
    "camera.release()  #kamerayı serbest bırakıyorum\n",
    "cv2.destroyAllWindows()"
   ]
  },
  {
   "cell_type": "markdown",
   "metadata": {},
   "source": [
    "#### Çizgi, daire, metin kutusu oluşturma (line, circle, text)"
   ]
  },
  {
   "cell_type": "code",
   "execution_count": 7,
   "metadata": {},
   "outputs": [],
   "source": [
    "import cv2\n",
    "import numpy as np\n",
    "\n",
    "goruntu=np.zeros((500,400,3),dtype=\"uint8\")\n",
    "\n",
    "cv2.line(goruntu,(50,100),(200,300),(0,0,255),4)\n",
    "#cv2.line(img,pt1,pt2,color,thickness)\n",
    "\n",
    "cv2.imshow(\"deneme line\",goruntu)\n",
    "cv2.waitKey(0)\n",
    "cv2.destroyAllWindows()"
   ]
  },
  {
   "cell_type": "code",
   "execution_count": 12,
   "metadata": {},
   "outputs": [],
   "source": [
    "import cv2\n",
    "import numpy as np\n",
    "\n",
    "goruntu=np.zeros((500,400,3),dtype=\"uint8\")\n",
    "\n",
    "cv2.circle(goruntu,(200,150),100,(255,51,255),4)\n",
    "#cv2.circle(img,center,radius,color,thickness)\n",
    "\n",
    "cv2.imshow(\"deneme circle\",goruntu)\n",
    "cv2.waitKey(0)\n",
    "cv2.destroyAllWindows()"
   ]
  },
  {
   "cell_type": "code",
   "execution_count": 26,
   "metadata": {},
   "outputs": [],
   "source": [
    "import cv2\n",
    "import numpy as np\n",
    "\n",
    "goruntu=np.zeros((500,400,3),dtype=\"uint8\")\n",
    "\n",
    "cv2.putText(goruntu,\"aybala\",(50,100),cv2.FONT_HERSHEY_TRIPLEX,1,(255,60,255),2)\n",
    "#cv2.putText(img,text,org,fontFace,fontScale,color,thickness)\n",
    "\n",
    "cv2.imshow(\"deneme circle\",goruntu)\n",
    "cv2.waitKey(0)\n",
    "cv2.destroyAllWindows()"
   ]
  },
  {
   "cell_type": "markdown",
   "metadata": {},
   "source": [
    "#### Canlı görüntüye çizgi, dikdörtgen, daire, text ekleme"
   ]
  },
  {
   "cell_type": "code",
   "execution_count": 43,
   "metadata": {},
   "outputs": [],
   "source": [
    "import cv2\n",
    "import numpy as np\n",
    "\n",
    "camera=cv2.VideoCapture(0)\n",
    "while True:\n",
    "    ret,goruntu=camera.read()\n",
    "    cv2.rectangle(goruntu,(300,300),(500,100),(0,255,0),3)\n",
    "    cv2.line(goruntu,(100,200),(300,400),(0,58,200),3)\n",
    "    cv2.circle(goruntu,(300,180),100,(255,45,255),3)\n",
    "    cv2.putText(goruntu,\"happy face\",(130,100),cv2.FONT_HERSHEY_SIMPLEX,1.5,(59,200,250),3)\n",
    "\n",
    "\n",
    "    cv2.imshow(\"canli goruntu\",goruntu)\n",
    "\n",
    "    if cv2.waitKey(25) & 0xFF== ord(\"q\"):\n",
    "        break\n",
    "\n",
    "camera.release()\n",
    "\n",
    "cv2.destroyAllWindows()"
   ]
  },
  {
   "cell_type": "markdown",
   "metadata": {},
   "source": [
    "#### Filtreleme işlemleri \n",
    "> mean filtering: ortalama alınarak filtreleme yapar\n",
    ">> fotoğrafı daha fazla yumuşatır, bu da orijinalliğini bozar.\n",
    ">> şablonlar: 3x3,5x5,7x7 ..\n",
    "\n"
   ]
  },
  {
   "cell_type": "code",
   "execution_count": 49,
   "metadata": {},
   "outputs": [],
   "source": [
    "import cv2\n",
    "import numpy as np\n",
    "noisyImage=cv2.imread(\"balloons_noisy.png\")\n",
    "meanFilteredImage=cv2.blur(noisyImage,(3,3)) #cv2.blur(kaynak,hangi şablon (3,3)/(5,5)/(7,7),)\n",
    "cv2.imshow(\"orijinal image\",noisyImage)\n",
    "cv2.imshow(\"mean filtered image(5*5)\",meanFilteredImage)\n",
    "cv2.waitKey(0)\n",
    "cv2.destroyAllWindows()"
   ]
  },
  {
   "cell_type": "markdown",
   "metadata": {},
   "source": [
    "> median filtering: penceredeki değerleri küçükten büyüğe sıralayıp, yeni pencerin ortasına yerleştirir.\n",
    ">>şablonlar: 3x3,5x5,7x7 .."
   ]
  },
  {
   "cell_type": "code",
   "execution_count": 51,
   "metadata": {},
   "outputs": [],
   "source": [
    "import cv2\n",
    "import numpy as np\n",
    "noisyImage=cv2.imread(\"train_noisy.jpg\")\n",
    "mediumFilteredImage=cv2.medianBlur(noisyImage,5)\n",
    "\n",
    "cv2.imshow(\"orijinal image\",noisyImage)\n",
    "cv2.imshow(\"median filtered image\",mediumFilteredImage)\n",
    "\n",
    "cv2.waitKey(0)\n",
    "cv2.destroyAllWindows()\n"
   ]
  },
  {
   "cell_type": "markdown",
   "metadata": {},
   "source": [
    "> gaussian filtering: çan eğrisi şeklinde bir filtreleme. \n",
    ">> her pixelin ağırlıklı ortalamasını çıkartıyor.\n",
    ">> daha ince düzeltmeler yapar."
   ]
  },
  {
   "cell_type": "code",
   "execution_count": 58,
   "metadata": {},
   "outputs": [],
   "source": [
    "import cv2\n",
    "import numpy as np\n",
    "noisyImage=cv2.imread(\"train_noisy.jpg\")\n",
    "gaussianFilteredImage=cv2.GaussianBlur(noisyImage,(7,7),0)\n",
    "\n",
    "cv2.imshow(\"orijinal image\",noisyImage)\n",
    "cv2.imshow(\"gaussian filtered image\",gaussianFilteredImage)\n",
    "\n",
    "cv2.waitKey(0)\n",
    "cv2.destroyAllWindows()"
   ]
  },
  {
   "cell_type": "markdown",
   "metadata": {},
   "source": [
    "#### Morfolojik işlemler"
   ]
  },
  {
   "cell_type": "markdown",
   "metadata": {},
   "source": [
    "> dilation işlemi"
   ]
  },
  {
   "cell_type": "code",
   "execution_count": 77,
   "metadata": {},
   "outputs": [],
   "source": [
    "import cv2\n",
    "import numpy as np\n",
    "\n",
    "image=cv2.imread(\"data.png\")\n",
    "\n",
    "kernel=np.ones((5,5),dtype=\"uint8\") #np.ones 1lerden oluşan matris yaratır \n",
    "dilation=cv2.dilate(image,kernel,iterations=1) #dilation işlemi ile beyaz bölgeleri genişletir. \n",
    "#iterations işlemin gücünü belirtir. 1: en az genişletme oranı\n",
    "\n",
    "cv2.imshow(\"orijinal\",image)\n",
    "cv2.imshow(\"dilation\",dilation)\n",
    "\n",
    "cv2.waitKey(0)\n",
    "cv2.destroyAllWindows()\n"
   ]
  },
  {
   "cell_type": "markdown",
   "metadata": {},
   "source": [
    ">erosion işlemi"
   ]
  },
  {
   "cell_type": "code",
   "execution_count": 69,
   "metadata": {},
   "outputs": [],
   "source": [
    "import cv2\n",
    "import numpy as np\n",
    "\n",
    "image=cv2.imread(\"data.png\")\n",
    "\n",
    "kernel=np.ones((5,5),dtype=\"uint8\") \n",
    "erosion=cv2.erode(image,kernel,iterations=1) #eration işlemi ile beyaz bölgeleri aşınıdırır.\n",
    "\n",
    "cv2.imshow(\"orijinal\",image)\n",
    "cv2.imshow(\"erosion\",erosion)\n",
    "\n",
    "cv2.waitKey(0)\n",
    "cv2.destroyAllWindows()\n"
   ]
  },
  {
   "cell_type": "markdown",
   "metadata": {},
   "source": [
    "> erosion işlemi üzerinde dilation yapılırsa gürültüler giderilir ve asıl resim üzerinde oynama olmaz."
   ]
  },
  {
   "cell_type": "code",
   "execution_count": 4,
   "metadata": {},
   "outputs": [],
   "source": [
    "import cv2\n",
    "import numpy as np\n",
    "\n",
    "image=cv2.imread(\"data.png\")\n",
    "\n",
    "kernel=np.ones((5,5),dtype=\"uint8\") \n",
    "erosion=cv2.erode(image,kernel,iterations=1)\n",
    "erosionedDilation=cv2.dilate(erosion,kernel,iterations=1) \n",
    "\n",
    "cv2.imshow(\"orijinal\",image)\n",
    "cv2.imshow(\"erosion\",erosionedDilation)\n",
    "\n",
    "cv2.waitKey(0)\n",
    "cv2.destroyAllWindows()\n"
   ]
  },
  {
   "cell_type": "markdown",
   "metadata": {},
   "source": [
    "#### Morfolojik işlemler 2"
   ]
  },
  {
   "cell_type": "markdown",
   "metadata": {},
   "source": [
    "> opening işlemi: erosion işlemi üzerine dilation işlemi gerçekleştirmekle aynıdır. gürültülü resimler için önerilir."
   ]
  },
  {
   "cell_type": "code",
   "execution_count": 79,
   "metadata": {},
   "outputs": [],
   "source": [
    "import cv2\n",
    "import numpy as np\n",
    "image=cv2.imread(\"data.png\")\n",
    "\n",
    "kernel=np.ones((5,5),dtype=\"uint8\") \n",
    "\n",
    "opening= cv2.morphologyEx(image,cv2.MORPH_OPEN,kernel)\n",
    "\n",
    "cv2.imshow(\"orijinal\",image)\n",
    "cv2.imshow(\"opening\",opening)\n",
    "\n",
    "cv2.waitKey(0)\n",
    "cv2.destroyAllWindows()"
   ]
  },
  {
   "cell_type": "markdown",
   "metadata": {},
   "source": [
    "> closing işlemi: dilation işlemi üzerine erosion işlemi gerçekleştirmekle aynıdır. kopuk ve birleştirme gerektiren görsellerde tavsiye edilir."
   ]
  },
  {
   "cell_type": "code",
   "execution_count": 80,
   "metadata": {},
   "outputs": [],
   "source": [
    "import cv2\n",
    "import numpy as np\n",
    "\n",
    "image=cv2.imread(\"data.png\")\n",
    "\n",
    "kernel=np.ones((5,5),dtype=\"uint8\") \n",
    "closing= cv2.morphologyEx(image,cv2.MORPH_CLOSE,kernel)\n",
    "\n",
    "cv2.imshow(\"orijinal\",image)\n",
    "cv2.imshow(\"closing\",closing)\n",
    "\n",
    "cv2.waitKey(0)\n",
    "cv2.destroyAllWindows()"
   ]
  },
  {
   "cell_type": "markdown",
   "metadata": {},
   "source": [
    "> gradient işlemi: dilation ve erosion arasındaki farktır."
   ]
  },
  {
   "cell_type": "code",
   "execution_count": 82,
   "metadata": {},
   "outputs": [],
   "source": [
    "import cv2\n",
    "import numpy as np\n",
    "\n",
    "image=cv2.imread(\"data.png\")\n",
    "\n",
    "kernel=np.ones((5,5),dtype=\"uint8\") \n",
    "gradient= cv2.morphologyEx(image,cv2.MORPH_GRADIENT,kernel)\n",
    "\n",
    "cv2.imshow(\"orijinal\",image)\n",
    "cv2.imshow(\"gradient\",gradient)\n",
    "\n",
    "cv2.waitKey(0)\n",
    "cv2.destroyAllWindows()"
   ]
  },
  {
   "cell_type": "markdown",
   "metadata": {},
   "source": [
    "> tophat işlemi :orijinal ile opining arasındaki farktır."
   ]
  },
  {
   "cell_type": "code",
   "execution_count": 83,
   "metadata": {},
   "outputs": [],
   "source": [
    "import cv2\n",
    "import numpy as np\n",
    "\n",
    "image=cv2.imread(\"data.png\")\n",
    "\n",
    "kernel=np.ones((5,5),dtype=\"uint8\") \n",
    "tophat= cv2.morphologyEx(image,cv2.MORPH_TOPHAT,kernel)\n",
    "\n",
    "cv2.imshow(\"orijinal\",image)\n",
    "cv2.imshow(\"tophat\",tophat)\n",
    "\n",
    "cv2.waitKey(0)\n",
    "cv2.destroyAllWindows()"
   ]
  },
  {
   "cell_type": "markdown",
   "metadata": {},
   "source": [
    "> blackhat işlemi :orijinal ile closing arasındaki farktır."
   ]
  },
  {
   "cell_type": "code",
   "execution_count": 85,
   "metadata": {},
   "outputs": [],
   "source": [
    "import cv2\n",
    "import numpy as np\n",
    "\n",
    "image=cv2.imread(\"data.png\")\n",
    "\n",
    "kernel=np.ones((5,5),dtype=\"uint8\") \n",
    "blackhat= cv2.morphologyEx(image,cv2.MORPH_BLACKHAT,kernel)\n",
    "\n",
    "cv2.imshow(\"orijinal\",image)\n",
    "cv2.imshow(\"blackhat\",blackhat)\n",
    "\n",
    "cv2.waitKey(0)\n",
    "cv2.destroyAllWindows()"
   ]
  },
  {
   "cell_type": "markdown",
   "metadata": {},
   "source": [
    "#### Eşik ayarlama Thresholding (Simple Thresholding)\n",
    "temel kural gri tonlamalı görüntü olmalıdır."
   ]
  },
  {
   "cell_type": "code",
   "execution_count": 93,
   "metadata": {},
   "outputs": [],
   "source": [
    "import cv2\n",
    "import numpy as np\n",
    "\n",
    "image=cv2.imread(\"labirent.png\",0)\n",
    "\n",
    "#pixel değeri 127nin altında kalanlar 0'a yuvarlanır. 127nın ustunde olursa 255e yuvarlansın.\n",
    "ret,thresh1 =cv2.threshold(image,127,255,cv2.THRESH_BINARY) \n",
    "ret,thresh2=cv2.threshold(image,127,255,cv2.THRESH_BINARY_INV)\n",
    "ret,thresh3=cv2.threshold(image,127,255,cv2.THRESH_TRUNC)\n",
    "ret,thresh4=cv2.threshold(image,127,255,cv2.THRESH_TOZERO)\n",
    "ret,thresh5=cv2.threshold(image,127,255,cv2.THRESH_TOZERO_INV)\n",
    "\n",
    "cv2.imshow(\"original\",image)\n",
    "cv2.imshow(\"tresh1\",thresh1)\n",
    "cv2.imshow(\"tresh2\",thresh2)\n",
    "cv2.imshow(\"tresh3\",thresh3)\n",
    "cv2.imshow(\"tresh4\",thresh4)\n",
    "cv2.imshow(\"tresh5\",thresh5)\n",
    "\n",
    "cv2.waitKey(0)\n",
    "cv2.destroyAllWindows()\n",
    "\n",
    "\n"
   ]
  },
  {
   "cell_type": "markdown",
   "metadata": {},
   "source": [
    "#### Canny kenar algılama \n",
    "> işlemler gri resim üzerinden yapılır.\n"
   ]
  },
  {
   "cell_type": "code",
   "execution_count": 13,
   "metadata": {},
   "outputs": [],
   "source": [
    "import cv2\n",
    "import numpy as np\n",
    "\n",
    "image=cv2.imread(\"groot.jpg\",0)\n",
    "bluredImage=cv2.GaussianBlur(image,(3,3),0)\n",
    "\n",
    "canny=cv2.Canny(bluredImage,50,200)\n",
    "\n",
    "cv2.imshow(\"blurred image\",bluredImage)\n",
    "cv2.imshow(\"canny image\",canny)\n",
    "\n",
    "cv2.waitKey(0)\n",
    "cv2.destroyAllWindows()\n",
    "\n"
   ]
  },
  {
   "cell_type": "code",
   "execution_count": 12,
   "metadata": {},
   "outputs": [],
   "source": [
    "import cv2\n",
    "import numpy as np\n",
    "\n",
    "image=cv2.imread(\"groot.jpg\",0)\n",
    "\n",
    "bluredImage=cv2.GaussianBlur(image,(3,3),0)\n",
    "def autoCanny(blur_image,sigma=0.65):\n",
    "    median=np.median(blur_image)\n",
    "    lower=int(max(0,(1.0 - sigma)*median))\n",
    "    upper=int(min(255,(1.0 - sigma)*median))\n",
    "    canny=cv2.Canny(blur_image,lower,upper)\n",
    "    return canny\n",
    "\n",
    "genis_kenarlandirma=cv2.Canny(bluredImage,0,220)\n",
    "dar_kenarlandirma=cv2.Canny(bluredImage,200,230)\n",
    "auto=autoCanny(bluredImage)\n",
    "\n",
    "cv2.imshow(\"blurred image\",bluredImage)\n",
    "cv2.imshow(\"edges\",np.hstack([genis_kenarlandirma,dar_kenarlandirma,auto]))\n",
    "\n",
    "\n",
    "cv2.waitKey(0)\n",
    "cv2.destroyAllWindows()\n",
    "\n"
   ]
  },
  {
   "cell_type": "markdown",
   "metadata": {},
   "source": [
    "#### Bitwise operatörleri \n",
    "0 siyaha, 1 beyaza denktir."
   ]
  },
  {
   "cell_type": "markdown",
   "metadata": {},
   "source": [
    "> and  "
   ]
  },
  {
   "cell_type": "code",
   "execution_count": 5,
   "metadata": {},
   "outputs": [],
   "source": [
    "import cv2 \n",
    "import numpy as np\n",
    "\n",
    "image1=cv2.imread(\"1.png\")\n",
    "image2=cv2.imread(\"2.png\")\n",
    "bit_And=cv2.bitwise_and(image1,image2)\n",
    "\n",
    "cv2.imshow(\"first image\",image1)\n",
    "cv2.imshow(\"second image\",image2)\n",
    "cv2.imshow(\"bitwise and image\",bit_And)\n",
    "\n",
    "cv2.waitKey(0)\n",
    "cv2.destroyAllWindows()"
   ]
  },
  {
   "cell_type": "markdown",
   "metadata": {},
   "source": [
    "> or"
   ]
  },
  {
   "cell_type": "code",
   "execution_count": 18,
   "metadata": {},
   "outputs": [],
   "source": [
    "import cv2 \n",
    "import numpy as np\n",
    "\n",
    "image1=cv2.imread(\"1.png\")\n",
    "image2=cv2.imread(\"2.png\")\n",
    "bit_Or=cv2.bitwise_or(image1,image2)\n",
    "\n",
    "cv2.imshow(\"first image\",image1)\n",
    "cv2.imshow(\"second image\",image2)\n",
    "cv2.imshow(\"bitwise or image\",bit_Or)\n",
    "\n",
    "cv2.waitKey(0)\n",
    "cv2.destroyAllWindows()"
   ]
  },
  {
   "cell_type": "markdown",
   "metadata": {},
   "source": [
    ">not"
   ]
  },
  {
   "cell_type": "code",
   "execution_count": 16,
   "metadata": {},
   "outputs": [],
   "source": [
    "import cv2 \n",
    "import numpy as np\n",
    "\n",
    "image1=cv2.imread(\"1.png\")\n",
    "image2=cv2.imread(\"2.png\")\n",
    "\n",
    "bit_Not1=cv2.bitwise_not(image1)\n",
    "bit_Not2=cv2.bitwise_not(image2)\n",
    "\n",
    "cv2.imshow(\"first image\",image1)\n",
    "cv2.imshow(\"second image\",image2)\n",
    "cv2.imshow(\"bitwise not image1\",bit_Not1)\n",
    "cv2.imshow(\"bitwise not image2\",bit_Not2)\n",
    "\n",
    "cv2.waitKey(0)\n",
    "cv2.destroyAllWindows()"
   ]
  },
  {
   "cell_type": "markdown",
   "metadata": {},
   "source": [
    ">xor"
   ]
  },
  {
   "cell_type": "code",
   "execution_count": 17,
   "metadata": {},
   "outputs": [],
   "source": [
    "import cv2 \n",
    "import numpy as np\n",
    "\n",
    "image1=cv2.imread(\"1.png\")\n",
    "image2=cv2.imread(\"2.png\")\n",
    "bit_Xor=cv2.bitwise_xor(image1,image2)\n",
    "\n",
    "cv2.imshow(\"first image\",image1)\n",
    "cv2.imshow(\"second image\",image2)\n",
    "cv2.imshow(\"bitwise xor image\",bit_Xor)\n",
    "\n",
    "cv2.waitKey(0)\n",
    "cv2.destroyAllWindows()"
   ]
  },
  {
   "cell_type": "markdown",
   "metadata": {},
   "source": [
    "> farklı renkler için de bir uygulama"
   ]
  },
  {
   "cell_type": "code",
   "execution_count": 6,
   "metadata": {},
   "outputs": [],
   "source": [
    "import cv2 \n",
    "import numpy as np\n",
    "\n",
    "image1=cv2.imread(\"3.png\")\n",
    "image2=cv2.imread(\"4.png\")\n",
    "bit_And=cv2.bitwise_and(image1,image2)\n",
    "\n",
    "cv2.imshow(\"first image\",image1)\n",
    "cv2.imshow(\"second image\",image2)\n",
    "cv2.imshow(\"bitwise and image\",bit_And)\n",
    "\n",
    "cv2.waitKey(0)\n",
    "cv2.destroyAllWindows()"
   ]
  },
  {
   "cell_type": "markdown",
   "metadata": {},
   "source": [
    "#### Uygulama - Kameradan alınan görüntünün kayıt edilmesi"
   ]
  },
  {
   "cell_type": "code",
   "execution_count": 3,
   "metadata": {},
   "outputs": [
    {
     "name": "stdout",
     "output_type": "stream",
     "text": [
      "640 480\n"
     ]
    }
   ],
   "source": [
    "import cv2 \n",
    "\n",
    "camera=cv2.VideoCapture(0)\n",
    "\n",
    "genislik=int(camera.get(cv2.CAP_PROP_FRAME_WIDTH))\n",
    "yukseklik=int(camera.get(cv2.CAP_PROP_FRAME_HEIGHT))\n",
    "print(genislik,yukseklik)\n",
    "\n",
    "#standart tanımlama formatıdır. 4 karakter kodu olarak bilinir. fourcc = four charachter code\n",
    "\n",
    "fourcc=cv2.VideoWriter_fourcc(*'MP4V')\n",
    "writer=cv2.VideoWriter(\"kayit.mp4\",fourcc,25,(genislik,yukseklik))\n",
    "\n",
    "while True:\n",
    "    ret,frame=camera.read()\n",
    "    writer.write(frame)                       \n",
    "    cv2.imshow(\"video kaydiniz...\",frame) \n",
    "\n",
    "    if cv2.waitKey(25) & 0xFF==ord('q'):              \n",
    "        break  \n",
    "    \n",
    "camera.release()  \n",
    "cv2.destroyAllWindows()\n"
   ]
  },
  {
   "cell_type": "code",
   "execution_count": null,
   "metadata": {},
   "outputs": [],
   "source": []
  }
 ],
 "metadata": {
  "kernelspec": {
   "display_name": "Python 3",
   "language": "python",
   "name": "python3"
  },
  "language_info": {
   "codemirror_mode": {
    "name": "ipython",
    "version": 3
   },
   "file_extension": ".py",
   "mimetype": "text/x-python",
   "name": "python",
   "nbconvert_exporter": "python",
   "pygments_lexer": "ipython3",
   "version": "3.12.1"
  }
 },
 "nbformat": 4,
 "nbformat_minor": 2
}
